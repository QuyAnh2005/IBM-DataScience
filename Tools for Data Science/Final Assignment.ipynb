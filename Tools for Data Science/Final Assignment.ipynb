{
 "cells": [
  {
   "cell_type": "markdown",
   "id": "8c2eda21",
   "metadata": {},
   "source": [
    "# My Jupyter Notebook on IBM Watson Studio"
   ]
  },
  {
   "cell_type": "markdown",
   "id": "f55bec2c",
   "metadata": {},
   "source": [
    "**Dang Quy Anh** \n",
    "\n",
    "Data Scientist"
   ]
  },
  {
   "cell_type": "markdown",
   "id": "2e261c62",
   "metadata": {},
   "source": [
    "*I am interested in Data Science because I would love to contribute towards affordable and quality healthcare in the future.*"
   ]
  },
  {
   "cell_type": "markdown",
   "id": "440b82d6",
   "metadata": {},
   "source": [
    "### The below should print 'Hello World'"
   ]
  },
  {
   "cell_type": "code",
   "execution_count": 1,
   "id": "9012eabe",
   "metadata": {},
   "outputs": [
    {
     "name": "stdout",
     "output_type": "stream",
     "text": [
      "Hello World!\n"
     ]
    }
   ],
   "source": [
    "print(\"Hello World!\")"
   ]
  },
  {
   "cell_type": "markdown",
   "id": "7e9bbf93",
   "metadata": {},
   "source": [
    "Some basic datatypes of `Python`:\n",
    "- `string, int, float`\n",
    "- `dict`\n",
    "- `dict`\n",
    "- `tuple`\n",
    "- ...\n",
    "\n",
    "For example with `list`:\n",
    "```\n",
    "my_list = [4, 7, 2, 7, 2]\n",
    "your_list = ['a', 'b', 'c']\n",
    "```\n",
    "\n",
    "Made by [QuyAnh2005](https://github.com/QuyAnh2005)"
   ]
  }
 ],
 "metadata": {
  "kernelspec": {
   "display_name": "Python 3",
   "language": "python",
   "name": "python3"
  },
  "language_info": {
   "codemirror_mode": {
    "name": "ipython",
    "version": 3
   },
   "file_extension": ".py",
   "mimetype": "text/x-python",
   "name": "python",
   "nbconvert_exporter": "python",
   "pygments_lexer": "ipython3",
   "version": "3.8.10"
  },
  "latex_envs": {
   "LaTeX_envs_menu_present": true,
   "autoclose": false,
   "autocomplete": true,
   "bibliofile": "biblio.bib",
   "cite_by": "apalike",
   "current_citInitial": 1,
   "eqLabelWithNumbers": true,
   "eqNumInitial": 1,
   "hotkeys": {
    "equation": "Ctrl-E",
    "itemize": "Ctrl-I"
   },
   "labels_anchors": false,
   "latex_user_defs": false,
   "report_style_numbering": false,
   "user_envs_cfg": false
  }
 },
 "nbformat": 4,
 "nbformat_minor": 5
}
